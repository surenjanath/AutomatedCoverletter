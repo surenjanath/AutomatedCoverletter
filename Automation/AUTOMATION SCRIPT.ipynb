{
 "cells": [
  {
   "cell_type": "code",
   "execution_count": 1,
   "metadata": {},
   "outputs": [],
   "source": [
    "\n",
    "from datetime import datetime as dt\n",
    "from docxtpl import DocxTemplate\n",
    "from docx2pdf import convert\n",
    "import os\n",
    "import pythoncom\n",
    "\n",
    "\n",
    "cwd = os.getcwd()\n",
    "\n",
    "TemplateDir = os.path.join(cwd,'CL Template')\n",
    "if os.path.isdir(TemplateDir) :\n",
    "    pass\n",
    "else:\n",
    "    print('[*] Creating Template Folder ...')\n",
    "    os.mkdir(TemplateDir)\n",
    "File = os.listdir(TemplateDir)\n",
    "for i in File:\n",
    "    try:\n",
    "        if os.path.basename(i).split('.')[-1] == 'docx':\n",
    "            Template = os.path.join(TemplateDir,i)\n",
    "            break\n",
    "    except IndexError:\n",
    "        print('[*] Sorry No Template File in folder')\n",
    "\n",
    "\n",
    "Export = os.path.join(cwd,'Export')\n",
    "Export_PDF = os.path.join(Export,'PDF CL')\n",
    "Export_TEMP = os.path.join(Export,'Temp Folder')\n",
    "\n",
    "if os.path.isdir(Export_TEMP)  :\n",
    "    pass\n",
    "else:\n",
    "    try:\n",
    "        print('[*] Creating Export Folders')\n",
    "        os.makedirs(Export_TEMP)\n",
    "        os.makedirs(Export_PDF)\n",
    "    except :\n",
    "        pass"
   ]
  },
  {
   "cell_type": "code",
   "execution_count": 14,
   "metadata": {},
   "outputs": [],
   "source": [
    "def AutoMated(data):\n",
    "    pythoncom.CoInitialize()\n",
    "\n",
    "    Date        = dt.now()\n",
    "    dateValue   = Date.strftime(\"%d %B %Y\")\n",
    "    doc         = DocxTemplate(Template)\n",
    "    company     = data['Company']\n",
    "    address     =data['Address']\n",
    "    job         = data['Job']\n",
    "    \n",
    "    context = { \n",
    "        \"Date\": f\"{dateValue}\",\n",
    "        \"VarCompany\": company,\n",
    "        \"VarAddress\": address,\n",
    "        \"Job\": job,\n",
    "        }\n",
    "\n",
    "    doc.render(context)\n",
    "    print('[*] Converting ...')\n",
    "    WP_PATH = os.path.join(Export_TEMP, f'{company} {job} - {dateValue}.docx')\n",
    "    doc.save(WP_PATH)\n",
    "\n",
    "    PDF_PATH = os.path.join(Export_PDF, f'{company} {job} - {dateValue}.pdf')\n",
    "\n",
    "\n",
    "    convert(WP_PATH, PDF_PATH)\n",
    "    print('[*] Task Finished')\n",
    "    print('[*] Deleting Temporary Files')\n",
    "    for i in os.listdir(Export_TEMP):\n",
    "        os.remove(os.path.join(Export_TEMP,i))\n",
    "    print('[*] Done') \n",
    "    \n",
    "\n",
    "       \n"
   ]
  },
  {
   "cell_type": "code",
   "execution_count": 15,
   "metadata": {},
   "outputs": [
    {
     "name": "stdout",
     "output_type": "stream",
     "text": [
      "[*] Converting ...\n"
     ]
    },
    {
     "data": {
      "application/vnd.jupyter.widget-view+json": {
       "model_id": "8d2de4ae47e64b1a9227d56c8d4c2713",
       "version_major": 2,
       "version_minor": 0
      },
      "text/plain": [
       "  0%|          | 0/1 [00:00<?, ?it/s]"
      ]
     },
     "metadata": {},
     "output_type": "display_data"
    },
    {
     "name": "stdout",
     "output_type": "stream",
     "text": [
      "[*] Task Finished\n",
      "[*] Deleting Temporary Files\n",
      "[*] Done\n",
      "[*] Converting ...\n"
     ]
    },
    {
     "data": {
      "application/vnd.jupyter.widget-view+json": {
       "model_id": "a3f1a80c712a4114baeac6180e71329a",
       "version_major": 2,
       "version_minor": 0
      },
      "text/plain": [
       "  0%|          | 0/1 [00:00<?, ?it/s]"
      ]
     },
     "metadata": {},
     "output_type": "display_data"
    },
    {
     "name": "stdout",
     "output_type": "stream",
     "text": [
      "[*] Task Finished\n",
      "[*] Deleting Temporary Files\n",
      "[*] Done\n",
      "[*] Converting ...\n"
     ]
    },
    {
     "data": {
      "application/vnd.jupyter.widget-view+json": {
       "model_id": "1f420ce366d24671b031af2e1e2bf22d",
       "version_major": 2,
       "version_minor": 0
      },
      "text/plain": [
       "  0%|          | 0/1 [00:00<?, ?it/s]"
      ]
     },
     "metadata": {},
     "output_type": "display_data"
    },
    {
     "name": "stdout",
     "output_type": "stream",
     "text": [
      "[*] Task Finished\n",
      "[*] Deleting Temporary Files\n",
      "[*] Done\n"
     ]
    }
   ],
   "source": [
    "\n",
    "data = {}\n",
    "\n",
    "for i in range(0,3):\n",
    "  data['Company'] = f\"Company ABC {str(i)}\"\n",
    "  data['Address'] = \"Somewhere far away\"\n",
    "  data['Job'] = \"Data Automator\"   \n",
    "      \n",
    "      \n",
    "  AutoMated(data)"
   ]
  },
  {
   "cell_type": "code",
   "execution_count": null,
   "metadata": {},
   "outputs": [],
   "source": []
  }
 ],
 "metadata": {
  "interpreter": {
   "hash": "1de51699a722d585e65109e3ecc36b03894a795345ce44373f4e70c9475c2351"
  },
  "kernelspec": {
   "display_name": "Python 3.10.1 64-bit",
   "language": "python",
   "name": "python3"
  },
  "language_info": {
   "codemirror_mode": {
    "name": "ipython",
    "version": 3
   },
   "file_extension": ".py",
   "mimetype": "text/x-python",
   "name": "python",
   "nbconvert_exporter": "python",
   "pygments_lexer": "ipython3",
   "version": "3.10.1"
  },
  "orig_nbformat": 4
 },
 "nbformat": 4,
 "nbformat_minor": 2
}
